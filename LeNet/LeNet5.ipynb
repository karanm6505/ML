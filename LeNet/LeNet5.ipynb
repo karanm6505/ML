{
 "cells": [
  {
   "cell_type": "code",
   "execution_count": null,
   "metadata": {},
   "outputs": [],
   "source": [
    "import torch\n",
    "import torch.nn as nn\n",
    "import torchvision\n",
    "import torchvision.transforms as transforms\n",
    "import matplotlib.pyplot as plt\n",
    "import ssl\n",
    "ssl._create_default_https_context = ssl._create_unverified_context #fix the loading of the dataset, without this it's unable to run"
   ]
  },
  {
   "cell_type": "code",
   "execution_count": null,
   "metadata": {},
   "outputs": [],
   "source": [
    "batch_size = 64\n",
    "num_classes = 10\n",
    "learning_rate = 0.001 #alpha\n",
    "num_epochs = 10"
   ]
  },
  {
   "cell_type": "code",
   "execution_count": null,
   "metadata": {},
   "outputs": [
    {
     "data": {
      "text/plain": [
       "<torch.utils.data.dataloader.DataLoader at 0x1048e0210>"
      ]
     },
     "execution_count": 8,
     "metadata": {},
     "output_type": "execute_result"
    }
   ],
   "source": [
    "train_dataset = torchvision.datasets.MNIST(root = './data',\n",
    "                                               train = True,\n",
    "                                               transform = transforms.Compose([\n",
    "                                                      transforms.Resize((32,32)),\n",
    "                                                      transforms.ToTensor(),\n",
    "                                                      transforms.Normalize(mean = (0.1307,), std = (0.3081,))]),\n",
    "                                               download = True)\n",
    "    \n",
    "    \n",
    "test_dataset = torchvision.datasets.MNIST(root = './data',\n",
    "                                              train = False,\n",
    "                                              transform = transforms.Compose([\n",
    "                                                      transforms.Resize((32,32)),\n",
    "                                                      transforms.ToTensor(),\n",
    "                                                      transforms.Normalize(mean = (0.1325,), std = (0.3105,))]),\n",
    "                                              download=True)\n",
    "    \n",
    "    \n",
    "train_loader = torch.utils.data.DataLoader(dataset = train_dataset,\n",
    "                                               batch_size = batch_size,\n",
    "                                               shuffle = True)\n",
    "    \n",
    "    \n",
    "test_loader = torch.utils.data.DataLoader(dataset = test_dataset,\n",
    "                                               batch_size = batch_size,\n",
    "                                               shuffle = True)\n",
    "\n"
   ]
  },
  {
   "cell_type": "code",
   "execution_count": null,
   "metadata": {},
   "outputs": [],
   "source": [
    "class LeNet5(nn.Module):\n",
    "    def __init__(self,num_classes):\n",
    "        super(LeNet5,self).__init__()\n",
    "        self.layer1 = nn.Sequential(\n",
    "                nn.Conv2d(1, 6, kernel_size=5, stride=1, padding=0),\n",
    "                nn.BatchNorm2d(6),\n",
    "                nn.ReLU(),\n",
    "                nn.MaxPool2d(kernel_size = 2, stride = 2))\n",
    "        self.layer2 = nn.Sequential(\n",
    "                nn.Conv2d(6, 16, kernel_size=5, stride=1, padding=0),\n",
    "                nn.BatchNorm2d(16),\n",
    "                nn.ReLU(),\n",
    "                nn.MaxPool2d(kernel_size = 2, stride = 2))\n",
    "        self.fc = nn.Linear(400, 120)\n",
    "        self.relu = nn.ReLU()\n",
    "        self.fc1 = nn.Linear(120, 84)\n",
    "        self.relu1 = nn.ReLU()\n",
    "        self.fc2 = nn.Linear(84, num_classes)\n",
    "\n",
    "    def forward(self, x):\n",
    "        out = self.layer1(x)\n",
    "        out = self.layer2(out)\n",
    "        out = out.reshape(out.size(0), -1)\n",
    "        out = self.fc(out)\n",
    "        out = self.relu(out)\n",
    "        out = self.fc1(out)\n",
    "        out = self.relu1(out)\n",
    "        out = self.fc2(out)\n",
    "        return out"
   ]
  },
  {
   "cell_type": "code",
   "execution_count": 17,
   "metadata": {},
   "outputs": [],
   "source": [
    "model = LeNet5(num_classes)\n",
    "cost = nn.CrossEntropyLoss()\n",
    "optimizer = torch.optim.Adam(model.parameters(), lr=learning_rate)\n",
    "total_step = len(train_loader)"
   ]
  },
  {
   "cell_type": "code",
   "execution_count": 18,
   "metadata": {},
   "outputs": [
    {
     "name": "stdout",
     "output_type": "stream",
     "text": [
      "Epoch [1/10], Step [400/938], Loss: 0.1665\n",
      "Epoch [1/10], Step [800/938], Loss: 0.0321\n",
      "Epoch [2/10], Step [400/938], Loss: 0.0943\n",
      "Epoch [2/10], Step [800/938], Loss: 0.1124\n",
      "Epoch [3/10], Step [400/938], Loss: 0.0457\n",
      "Epoch [3/10], Step [800/938], Loss: 0.0489\n",
      "Epoch [4/10], Step [400/938], Loss: 0.0527\n",
      "Epoch [4/10], Step [800/938], Loss: 0.0642\n",
      "Epoch [5/10], Step [400/938], Loss: 0.0033\n",
      "Epoch [5/10], Step [800/938], Loss: 0.1544\n",
      "Epoch [6/10], Step [400/938], Loss: 0.0098\n",
      "Epoch [6/10], Step [800/938], Loss: 0.0047\n",
      "Epoch [7/10], Step [400/938], Loss: 0.0017\n",
      "Epoch [7/10], Step [800/938], Loss: 0.0195\n",
      "Epoch [8/10], Step [400/938], Loss: 0.0238\n",
      "Epoch [8/10], Step [800/938], Loss: 0.0038\n",
      "Epoch [9/10], Step [400/938], Loss: 0.0014\n",
      "Epoch [9/10], Step [800/938], Loss: 0.0011\n",
      "Epoch [10/10], Step [400/938], Loss: 0.0597\n",
      "Epoch [10/10], Step [800/938], Loss: 0.0002\n"
     ]
    }
   ],
   "source": [
    "total_step = len(train_loader)\n",
    "for epoch in range(num_epochs):\n",
    "    for i, (images, labels) in enumerate(train_loader):  \n",
    "            images = images\n",
    "            labels = labels\n",
    "            \n",
    "            outputs = model(images)\n",
    "            loss = cost(outputs, labels)\n",
    "            optimizer.zero_grad()\n",
    "            loss.backward()\n",
    "            optimizer.step()\n",
    "            if (i+1) % 400 == 0:\n",
    "                print ('Epoch [{}/{}], Step [{}/{}], Loss: {:.4f}' \n",
    ".format(epoch+1, num_epochs, i+1, total_step, loss.item()))"
   ]
  },
  {
   "cell_type": "code",
   "execution_count": 33,
   "metadata": {},
   "outputs": [
    {
     "name": "stdout",
     "output_type": "stream",
     "text": [
      "Accuracy of the network on the 10000 test images: 98.64 %\n"
     ]
    }
   ],
   "source": [
    "with torch.no_grad():\n",
    "    correct = 0\n",
    "    total = 0\n",
    "    for images, labels in test_loader:\n",
    "            images = images\n",
    "            labels = labels\n",
    "            outputs = model(images)\n",
    "            _, predicted = torch.max(outputs.data, 1)\n",
    "            total += labels.size(0)\n",
    "            correct += (predicted == labels).sum().item()\n",
    "    print('Accuracy of the network on the 10000 test images: {} %'.format(100 * correct / total))"
   ]
  },
  {
   "cell_type": "code",
   "execution_count": 37,
   "metadata": {},
   "outputs": [
    {
     "data": {
      "image/png": "[encoded data removed]",
      "text/plain": [
       "<Figure size 600x600 with 9 Axes>"
      ]
     },
     "metadata": {},
     "output_type": "display_data"
    }
   ],
   "source": [
    "def display_test_images(num_images, rows):\n",
    "    cols = num_images // rows\n",
    "    if num_images % rows != 0:\n",
    "        cols += 1\n",
    "   \n",
    "    dataiter = iter(test_loader)\n",
    "    images, labels = next(dataiter)\n",
    "    \n",
    "    with torch.no_grad():\n",
    "        outputs = model(images)\n",
    "        _, predicted = torch.max(outputs, 1)\n",
    "    \n",
    "    fig, axes = plt.subplots(rows, cols, figsize=(cols*2, rows*2))\n",
    "    axes = axes.flatten() if rows > 1 else axes\n",
    "    \n",
    "    for i in range(min(num_images, len(images))):\n",
    "        img = images[i][0].numpy()\n",
    "        axes[i].imshow(img, cmap='gray')\n",
    "        axes[i].set_title(f\"Pred: {predicted[i]}\\nTrue: {labels[i]}\")\n",
    "        axes[i].axis('off')\n",
    "    \n",
    "    plt.tight_layout()\n",
    "    plt.show()\n",
    "\n",
    "display_test_images(9, 3)"
   ]
  }
 ],
 "metadata": {
  "kernelspec": {
   "display_name": "Python 3",
   "language": "python",
   "name": "python3"
  },
  "language_info": {
   "codemirror_mode": {
    "name": "ipython",
    "version": 3
   },
   "file_extension": ".py",
   "mimetype": "text/x-python",
   "name": "python",
   "nbconvert_exporter": "python",
   "pygments_lexer": "ipython3",
   "version": "3.11.5"
  }
 },
 "nbformat": 4,
 "nbformat_minor": 2
}
